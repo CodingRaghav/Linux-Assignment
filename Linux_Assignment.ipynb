{
  "nbformat": 4,
  "nbformat_minor": 0,
  "metadata": {
    "colab": {
      "provenance": []
    },
    "kernelspec": {
      "name": "python3",
      "display_name": "Python 3"
    },
    "language_info": {
      "name": "python"
    }
  },
  "cells": [
    {
      "cell_type": "markdown",
      "source": [],
      "metadata": {
        "id": "RtuTpTFuM4te"
      }
    },
    {
      "cell_type": "markdown",
      "source": [
        "1. What is Linux?\n",
        "   Answer- Just like Windows, iOS, and Mac OS, Linux is an operating system.Linux is based on the UNIX operating system. UNIX is a powerful, multi-user, multitasking operating system originally developed in the 1970s at AT&T Bell Labs.\n",
        "\n",
        "2. What is the difference between Hard Link & Soft Link?\n",
        "   Answer- A Hard link acts as a copy of the selected file. It accesses the data available in the original file. If the earlier selected file is deleted, the hard link to the file will still contain the data of that file.\n",
        "   A soft link also known as a Symbolic link acts as a pointer or a reference to the file name. It does not access the data available in the original file. If the earlier file is deleted, the soft link will be pointing to a file that does not exist anymore.\n",
        "\n",
        "3. What is a Kernel in Linux?\n",
        "   Answer- A kernel, in the context of computing, is essentially the core of an operating system. It is the fundamental layer that exists between the computer hardware and the software. The kernel is responsible for interacting with hardware, and it is often considered the nucleus of a computer's operating system.\n",
        "\n",
        "4. How do you create a user account?\n",
        "   Answer- This command will add the user named \"newuser\".\n",
        "    sudo useradd newuser\n",
        "  after entering this command you need to enter the password and user will be created.\n",
        "\n",
        "5. What is the ‘grep’ command used for in Linux?\n",
        "   Answer- The grep command in Unix/Linux is a powerful tool used for searching and manipulating text patterns within files. Its name is derived from the ed (editor) command g/re/p (globally search for a regular expression and print matching lines), which reflects its core functionality.\n",
        "\n",
        "6. Step1: Create user p1\n",
        "   Step2: He should be part of 3 groups g1,g2,g3.\n",
        "   Step3: whenever he creates a file automatically in the group section of file grp g1 should come.\n",
        "   Answer- 1. sudo useradd p1\n",
        "    2. sudo groupadd g1\n",
        "       sudo groupadd g2\n",
        "       sudo groupadd g3\n",
        "\n",
        "       sudo usermod -aG g1,g2,g3 p1\n",
        "    3. sudo usermod -g g1 p1\n",
        "\n",
        "7. Create directory /tmp/bg as root user and create files inside it.\n",
        " Step2: “abhi” should be the owner of the directory. He should be able to create files and delete files inside the directory and also he should be able to add content to all files inside the directory.\n",
        "  Answer- 1. sudo mkdir /tmp/bg\n",
        "   sudo touch /tmp/bg/file1 /tmp/bg/file2\n",
        "    2. sudo useradd abhi\n",
        "       sudo chown -R abhi /tmp/bg\n",
        "       sudo chmod u+rwx /tmp/bg\n",
        "       sudo chmod u+rw /tmp/bg/*\n",
        "\n",
        "8. You suspect that a particular process is consuming excessive CPU resources on your Linux server. How\n",
        "would you identify and terminate this process?\n",
        "  Answer- 1. Identify the process using high CPU using (top) command.\n",
        "    2. Terminate the process using command (kill process_id)\n",
        "\n",
        "\n",
        "\n",
        "\n"
      ],
      "metadata": {
        "id": "PGOW6_P9OeCS"
      }
    },
    {
      "cell_type": "code",
      "execution_count": null,
      "metadata": {
        "id": "5o_eUJu4M0Qx"
      },
      "outputs": [],
      "source": []
    }
  ]
}